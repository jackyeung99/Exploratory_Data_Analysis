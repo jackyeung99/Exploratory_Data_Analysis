{
 "cells": [
  {
   "cell_type": "code",
   "execution_count": 8,
   "metadata": {
    "vscode": {
     "languageId": "r"
    }
   },
   "outputs": [],
   "source": [
    "library(ggplot2)\n",
    "library(tidyr)\n",
    "library(tidyverse)\n",
    "library(dcldata)"
   ]
  },
  {
   "cell_type": "code",
   "execution_count": 3,
   "metadata": {
    "vscode": {
     "languageId": "r"
    }
   },
   "outputs": [],
   "source": [
    "df = read.csv('../data/cytof_one_experiment.csv')"
   ]
  },
  {
   "cell_type": "code",
   "execution_count": 5,
   "metadata": {
    "vscode": {
     "languageId": "r"
    }
   },
   "outputs": [
    {
     "data": {
      "text/html": [
       "<table class=\"dataframe\">\n",
       "<caption>A data.frame: 10 × 35</caption>\n",
       "<thead>\n",
       "\t<tr><th></th><th scope=col>NKp30</th><th scope=col>KIR3DL1</th><th scope=col>NKp44</th><th scope=col>KIR2DL1</th><th scope=col>GranzymeB</th><th scope=col>CXCR6</th><th scope=col>CD161</th><th scope=col>KIR2DS4</th><th scope=col>NKp46</th><th scope=col>NKG2D</th><th scope=col>⋯</th><th scope=col>CD16</th><th scope=col>TNFa</th><th scope=col>ILT2</th><th scope=col>Perforin</th><th scope=col>KIR2DL2.L3.S2</th><th scope=col>KIR2DL3</th><th scope=col>NKG2A</th><th scope=col>NTB.A</th><th scope=col>CD56</th><th scope=col>INFg</th></tr>\n",
       "\t<tr><th></th><th scope=col>&lt;dbl&gt;</th><th scope=col>&lt;dbl&gt;</th><th scope=col>&lt;dbl&gt;</th><th scope=col>&lt;dbl&gt;</th><th scope=col>&lt;dbl&gt;</th><th scope=col>&lt;dbl&gt;</th><th scope=col>&lt;dbl&gt;</th><th scope=col>&lt;dbl&gt;</th><th scope=col>&lt;dbl&gt;</th><th scope=col>&lt;dbl&gt;</th><th scope=col>⋯</th><th scope=col>&lt;dbl&gt;</th><th scope=col>&lt;dbl&gt;</th><th scope=col>&lt;dbl&gt;</th><th scope=col>&lt;dbl&gt;</th><th scope=col>&lt;dbl&gt;</th><th scope=col>&lt;dbl&gt;</th><th scope=col>&lt;dbl&gt;</th><th scope=col>&lt;dbl&gt;</th><th scope=col>&lt;dbl&gt;</th><th scope=col>&lt;dbl&gt;</th></tr>\n",
       "</thead>\n",
       "<tbody>\n",
       "\t<tr><th scope=row>1</th><td> 0.1875955</td><td> 3.61569324</td><td>-0.5605694</td><td>-0.2936654</td><td> 2.4778929</td><td>-0.14470053</td><td>-0.3152872</td><td> 1.94497046</td><td>4.0818316</td><td> 2.62007840</td><td>⋯</td><td> 3.9951417</td><td> 0.90143498</td><td>-0.386027758</td><td>6.431983</td><td> 1.22710292</td><td> 2.660657999</td><td>-0.5220613</td><td>4.348923</td><td>2.897523</td><td>-0.38411079</td></tr>\n",
       "\t<tr><th scope=row>2</th><td> 1.0348518</td><td> 1.70018202</td><td>-0.2889611</td><td>-0.4798280</td><td> 3.2610161</td><td>-0.03392447</td><td>-0.4112129</td><td> 3.80251714</td><td>3.7339299</td><td>-0.48327879</td><td>⋯</td><td> 4.4082309</td><td> 1.93590153</td><td> 2.983874845</td><td>6.814827</td><td>-0.04141081</td><td> 3.841304627</td><td> 4.6771149</td><td>3.474335</td><td>3.782870</td><td> 2.71862957</td></tr>\n",
       "\t<tr><th scope=row>3</th><td> 2.9996398</td><td> 6.14114186</td><td> 1.9032606</td><td> 0.4823102</td><td> 4.2775617</td><td> 1.94654156</td><td>-0.5022347</td><td>-0.32010171</td><td>4.5594631</td><td>-0.50690897</td><td>⋯</td><td> 6.0023244</td><td>-0.02336999</td><td>-0.521099944</td><td>5.099562</td><td>-0.16705075</td><td>-0.009694396</td><td>-0.4730573</td><td>5.634341</td><td>5.701186</td><td> 2.53217632</td></tr>\n",
       "\t<tr><th scope=row>4</th><td> 4.2998594</td><td>-0.22115860</td><td> 0.2425707</td><td>-0.4831267</td><td> 3.3518081</td><td> 0.92622195</td><td> 3.8772370</td><td>-0.16969487</td><td>4.4831486</td><td> 1.92722902</td><td>⋯</td><td> 5.8238698</td><td>-0.60793749</td><td>-0.043783559</td><td>5.841797</td><td>-0.51753289</td><td>-0.592990887</td><td>-0.4059049</td><td>4.598021</td><td>6.065672</td><td> 2.45645823</td></tr>\n",
       "\t<tr><th scope=row>5</th><td>-0.4386448</td><td>-0.50358920</td><td>-0.1526320</td><td> 0.7506128</td><td> 3.1941453</td><td>-0.05893640</td><td> 1.0907379</td><td>-0.05033025</td><td>0.8379358</td><td>-0.45816738</td><td>⋯</td><td> 4.0122501</td><td>-0.61989100</td><td> 1.182703288</td><td>4.888777</td><td>-0.36251589</td><td>-0.398123704</td><td>-0.5440881</td><td>3.606101</td><td>1.966169</td><td> 3.14700918</td></tr>\n",
       "\t<tr><th scope=row>6</th><td> 2.0883050</td><td>-0.39926459</td><td> 3.4550676</td><td>-0.5200856</td><td> 4.3451025</td><td>-0.36434277</td><td>-0.5705891</td><td>-0.45033591</td><td>4.0550848</td><td> 3.42835646</td><td>⋯</td><td>-0.5832926</td><td> 0.14311030</td><td>-0.003258955</td><td>3.952542</td><td>-0.20194392</td><td>-0.202592720</td><td> 3.8882776</td><td>2.346275</td><td>6.473243</td><td> 2.82829866</td></tr>\n",
       "\t<tr><th scope=row>7</th><td>-0.6132596</td><td>-0.11663800</td><td>-0.4512110</td><td> 3.5458515</td><td> 1.5430597</td><td>-0.41351724</td><td> 0.7254911</td><td>-0.06735959</td><td>2.6651401</td><td>-0.08376734</td><td>⋯</td><td> 3.3323524</td><td>-0.44847160</td><td>-0.151396256</td><td>6.247289</td><td>-0.48058961</td><td>-0.317244773</td><td> 3.0763917</td><td>3.898727</td><td>3.660979</td><td> 0.53842782</td></tr>\n",
       "\t<tr><th scope=row>8</th><td>-0.3413893</td><td>-0.25341245</td><td>-0.4592173</td><td> 2.8992714</td><td>-0.5451933</td><td>-0.61175860</td><td>-0.1279548</td><td> 2.79152591</td><td>0.7255918</td><td> 2.09556916</td><td>⋯</td><td> 2.7832278</td><td>-0.08849160</td><td> 2.612436055</td><td>5.617442</td><td>-0.07145452</td><td> 2.439626933</td><td>-0.2024779</td><td>3.324831</td><td>3.499159</td><td>-0.03111381</td></tr>\n",
       "\t<tr><th scope=row>9</th><td> 2.3116562</td><td>-0.36403357</td><td>-0.5727807</td><td> 3.8352221</td><td> 2.9209070</td><td> 2.45722962</td><td> 2.2479263</td><td>-0.37610392</td><td>4.3333043</td><td>-0.01676545</td><td>⋯</td><td> 5.1664385</td><td> 1.77936191</td><td>-0.038896047</td><td>6.832474</td><td> 3.58195551</td><td> 0.652217458</td><td> 2.2786631</td><td>5.306381</td><td>5.470519</td><td>-0.19172223</td></tr>\n",
       "\t<tr><th scope=row>10</th><td> 3.4844537</td><td>-0.02822363</td><td>-0.1821482</td><td> 4.1982576</td><td> 4.7395578</td><td> 0.69468032</td><td> 5.0837311</td><td> 4.18918379</td><td>4.5397170</td><td> 2.16318559</td><td>⋯</td><td> 5.9529478</td><td>-0.01809705</td><td> 2.616244868</td><td>4.962765</td><td>-0.43561619</td><td>-0.051400172</td><td>-0.5646037</td><td>3.050023</td><td>4.858793</td><td>-0.09067627</td></tr>\n",
       "</tbody>\n",
       "</table>\n"
      ],
      "text/latex": [
       "A data.frame: 10 × 35\n",
       "\\begin{tabular}{r|lllllllllllllllllllll}\n",
       "  & NKp30 & KIR3DL1 & NKp44 & KIR2DL1 & GranzymeB & CXCR6 & CD161 & KIR2DS4 & NKp46 & NKG2D & ⋯ & CD16 & TNFa & ILT2 & Perforin & KIR2DL2.L3.S2 & KIR2DL3 & NKG2A & NTB.A & CD56 & INFg\\\\\n",
       "  & <dbl> & <dbl> & <dbl> & <dbl> & <dbl> & <dbl> & <dbl> & <dbl> & <dbl> & <dbl> & ⋯ & <dbl> & <dbl> & <dbl> & <dbl> & <dbl> & <dbl> & <dbl> & <dbl> & <dbl> & <dbl>\\\\\n",
       "\\hline\n",
       "\t1 &  0.1875955 &  3.61569324 & -0.5605694 & -0.2936654 &  2.4778929 & -0.14470053 & -0.3152872 &  1.94497046 & 4.0818316 &  2.62007840 & ⋯ &  3.9951417 &  0.90143498 & -0.386027758 & 6.431983 &  1.22710292 &  2.660657999 & -0.5220613 & 4.348923 & 2.897523 & -0.38411079\\\\\n",
       "\t2 &  1.0348518 &  1.70018202 & -0.2889611 & -0.4798280 &  3.2610161 & -0.03392447 & -0.4112129 &  3.80251714 & 3.7339299 & -0.48327879 & ⋯ &  4.4082309 &  1.93590153 &  2.983874845 & 6.814827 & -0.04141081 &  3.841304627 &  4.6771149 & 3.474335 & 3.782870 &  2.71862957\\\\\n",
       "\t3 &  2.9996398 &  6.14114186 &  1.9032606 &  0.4823102 &  4.2775617 &  1.94654156 & -0.5022347 & -0.32010171 & 4.5594631 & -0.50690897 & ⋯ &  6.0023244 & -0.02336999 & -0.521099944 & 5.099562 & -0.16705075 & -0.009694396 & -0.4730573 & 5.634341 & 5.701186 &  2.53217632\\\\\n",
       "\t4 &  4.2998594 & -0.22115860 &  0.2425707 & -0.4831267 &  3.3518081 &  0.92622195 &  3.8772370 & -0.16969487 & 4.4831486 &  1.92722902 & ⋯ &  5.8238698 & -0.60793749 & -0.043783559 & 5.841797 & -0.51753289 & -0.592990887 & -0.4059049 & 4.598021 & 6.065672 &  2.45645823\\\\\n",
       "\t5 & -0.4386448 & -0.50358920 & -0.1526320 &  0.7506128 &  3.1941453 & -0.05893640 &  1.0907379 & -0.05033025 & 0.8379358 & -0.45816738 & ⋯ &  4.0122501 & -0.61989100 &  1.182703288 & 4.888777 & -0.36251589 & -0.398123704 & -0.5440881 & 3.606101 & 1.966169 &  3.14700918\\\\\n",
       "\t6 &  2.0883050 & -0.39926459 &  3.4550676 & -0.5200856 &  4.3451025 & -0.36434277 & -0.5705891 & -0.45033591 & 4.0550848 &  3.42835646 & ⋯ & -0.5832926 &  0.14311030 & -0.003258955 & 3.952542 & -0.20194392 & -0.202592720 &  3.8882776 & 2.346275 & 6.473243 &  2.82829866\\\\\n",
       "\t7 & -0.6132596 & -0.11663800 & -0.4512110 &  3.5458515 &  1.5430597 & -0.41351724 &  0.7254911 & -0.06735959 & 2.6651401 & -0.08376734 & ⋯ &  3.3323524 & -0.44847160 & -0.151396256 & 6.247289 & -0.48058961 & -0.317244773 &  3.0763917 & 3.898727 & 3.660979 &  0.53842782\\\\\n",
       "\t8 & -0.3413893 & -0.25341245 & -0.4592173 &  2.8992714 & -0.5451933 & -0.61175860 & -0.1279548 &  2.79152591 & 0.7255918 &  2.09556916 & ⋯ &  2.7832278 & -0.08849160 &  2.612436055 & 5.617442 & -0.07145452 &  2.439626933 & -0.2024779 & 3.324831 & 3.499159 & -0.03111381\\\\\n",
       "\t9 &  2.3116562 & -0.36403357 & -0.5727807 &  3.8352221 &  2.9209070 &  2.45722962 &  2.2479263 & -0.37610392 & 4.3333043 & -0.01676545 & ⋯ &  5.1664385 &  1.77936191 & -0.038896047 & 6.832474 &  3.58195551 &  0.652217458 &  2.2786631 & 5.306381 & 5.470519 & -0.19172223\\\\\n",
       "\t10 &  3.4844537 & -0.02822363 & -0.1821482 &  4.1982576 &  4.7395578 &  0.69468032 &  5.0837311 &  4.18918379 & 4.5397170 &  2.16318559 & ⋯ &  5.9529478 & -0.01809705 &  2.616244868 & 4.962765 & -0.43561619 & -0.051400172 & -0.5646037 & 3.050023 & 4.858793 & -0.09067627\\\\\n",
       "\\end{tabular}\n"
      ],
      "text/markdown": [
       "\n",
       "A data.frame: 10 × 35\n",
       "\n",
       "| <!--/--> | NKp30 &lt;dbl&gt; | KIR3DL1 &lt;dbl&gt; | NKp44 &lt;dbl&gt; | KIR2DL1 &lt;dbl&gt; | GranzymeB &lt;dbl&gt; | CXCR6 &lt;dbl&gt; | CD161 &lt;dbl&gt; | KIR2DS4 &lt;dbl&gt; | NKp46 &lt;dbl&gt; | NKG2D &lt;dbl&gt; | ⋯ ⋯ | CD16 &lt;dbl&gt; | TNFa &lt;dbl&gt; | ILT2 &lt;dbl&gt; | Perforin &lt;dbl&gt; | KIR2DL2.L3.S2 &lt;dbl&gt; | KIR2DL3 &lt;dbl&gt; | NKG2A &lt;dbl&gt; | NTB.A &lt;dbl&gt; | CD56 &lt;dbl&gt; | INFg &lt;dbl&gt; |\n",
       "|---|---|---|---|---|---|---|---|---|---|---|---|---|---|---|---|---|---|---|---|---|---|\n",
       "| 1 |  0.1875955 |  3.61569324 | -0.5605694 | -0.2936654 |  2.4778929 | -0.14470053 | -0.3152872 |  1.94497046 | 4.0818316 |  2.62007840 | ⋯ |  3.9951417 |  0.90143498 | -0.386027758 | 6.431983 |  1.22710292 |  2.660657999 | -0.5220613 | 4.348923 | 2.897523 | -0.38411079 |\n",
       "| 2 |  1.0348518 |  1.70018202 | -0.2889611 | -0.4798280 |  3.2610161 | -0.03392447 | -0.4112129 |  3.80251714 | 3.7339299 | -0.48327879 | ⋯ |  4.4082309 |  1.93590153 |  2.983874845 | 6.814827 | -0.04141081 |  3.841304627 |  4.6771149 | 3.474335 | 3.782870 |  2.71862957 |\n",
       "| 3 |  2.9996398 |  6.14114186 |  1.9032606 |  0.4823102 |  4.2775617 |  1.94654156 | -0.5022347 | -0.32010171 | 4.5594631 | -0.50690897 | ⋯ |  6.0023244 | -0.02336999 | -0.521099944 | 5.099562 | -0.16705075 | -0.009694396 | -0.4730573 | 5.634341 | 5.701186 |  2.53217632 |\n",
       "| 4 |  4.2998594 | -0.22115860 |  0.2425707 | -0.4831267 |  3.3518081 |  0.92622195 |  3.8772370 | -0.16969487 | 4.4831486 |  1.92722902 | ⋯ |  5.8238698 | -0.60793749 | -0.043783559 | 5.841797 | -0.51753289 | -0.592990887 | -0.4059049 | 4.598021 | 6.065672 |  2.45645823 |\n",
       "| 5 | -0.4386448 | -0.50358920 | -0.1526320 |  0.7506128 |  3.1941453 | -0.05893640 |  1.0907379 | -0.05033025 | 0.8379358 | -0.45816738 | ⋯ |  4.0122501 | -0.61989100 |  1.182703288 | 4.888777 | -0.36251589 | -0.398123704 | -0.5440881 | 3.606101 | 1.966169 |  3.14700918 |\n",
       "| 6 |  2.0883050 | -0.39926459 |  3.4550676 | -0.5200856 |  4.3451025 | -0.36434277 | -0.5705891 | -0.45033591 | 4.0550848 |  3.42835646 | ⋯ | -0.5832926 |  0.14311030 | -0.003258955 | 3.952542 | -0.20194392 | -0.202592720 |  3.8882776 | 2.346275 | 6.473243 |  2.82829866 |\n",
       "| 7 | -0.6132596 | -0.11663800 | -0.4512110 |  3.5458515 |  1.5430597 | -0.41351724 |  0.7254911 | -0.06735959 | 2.6651401 | -0.08376734 | ⋯ |  3.3323524 | -0.44847160 | -0.151396256 | 6.247289 | -0.48058961 | -0.317244773 |  3.0763917 | 3.898727 | 3.660979 |  0.53842782 |\n",
       "| 8 | -0.3413893 | -0.25341245 | -0.4592173 |  2.8992714 | -0.5451933 | -0.61175860 | -0.1279548 |  2.79152591 | 0.7255918 |  2.09556916 | ⋯ |  2.7832278 | -0.08849160 |  2.612436055 | 5.617442 | -0.07145452 |  2.439626933 | -0.2024779 | 3.324831 | 3.499159 | -0.03111381 |\n",
       "| 9 |  2.3116562 | -0.36403357 | -0.5727807 |  3.8352221 |  2.9209070 |  2.45722962 |  2.2479263 | -0.37610392 | 4.3333043 | -0.01676545 | ⋯ |  5.1664385 |  1.77936191 | -0.038896047 | 6.832474 |  3.58195551 |  0.652217458 |  2.2786631 | 5.306381 | 5.470519 | -0.19172223 |\n",
       "| 10 |  3.4844537 | -0.02822363 | -0.1821482 |  4.1982576 |  4.7395578 |  0.69468032 |  5.0837311 |  4.18918379 | 4.5397170 |  2.16318559 | ⋯ |  5.9529478 | -0.01809705 |  2.616244868 | 4.962765 | -0.43561619 | -0.051400172 | -0.5646037 | 3.050023 | 4.858793 | -0.09067627 |\n",
       "\n"
      ],
      "text/plain": [
       "   NKp30      KIR3DL1     NKp44      KIR2DL1    GranzymeB  CXCR6      \n",
       "1   0.1875955  3.61569324 -0.5605694 -0.2936654  2.4778929 -0.14470053\n",
       "2   1.0348518  1.70018202 -0.2889611 -0.4798280  3.2610161 -0.03392447\n",
       "3   2.9996398  6.14114186  1.9032606  0.4823102  4.2775617  1.94654156\n",
       "4   4.2998594 -0.22115860  0.2425707 -0.4831267  3.3518081  0.92622195\n",
       "5  -0.4386448 -0.50358920 -0.1526320  0.7506128  3.1941453 -0.05893640\n",
       "6   2.0883050 -0.39926459  3.4550676 -0.5200856  4.3451025 -0.36434277\n",
       "7  -0.6132596 -0.11663800 -0.4512110  3.5458515  1.5430597 -0.41351724\n",
       "8  -0.3413893 -0.25341245 -0.4592173  2.8992714 -0.5451933 -0.61175860\n",
       "9   2.3116562 -0.36403357 -0.5727807  3.8352221  2.9209070  2.45722962\n",
       "10  3.4844537 -0.02822363 -0.1821482  4.1982576  4.7395578  0.69468032\n",
       "   CD161      KIR2DS4     NKp46     NKG2D       ⋯ CD16       TNFa       \n",
       "1  -0.3152872  1.94497046 4.0818316  2.62007840 ⋯  3.9951417  0.90143498\n",
       "2  -0.4112129  3.80251714 3.7339299 -0.48327879 ⋯  4.4082309  1.93590153\n",
       "3  -0.5022347 -0.32010171 4.5594631 -0.50690897 ⋯  6.0023244 -0.02336999\n",
       "4   3.8772370 -0.16969487 4.4831486  1.92722902 ⋯  5.8238698 -0.60793749\n",
       "5   1.0907379 -0.05033025 0.8379358 -0.45816738 ⋯  4.0122501 -0.61989100\n",
       "6  -0.5705891 -0.45033591 4.0550848  3.42835646 ⋯ -0.5832926  0.14311030\n",
       "7   0.7254911 -0.06735959 2.6651401 -0.08376734 ⋯  3.3323524 -0.44847160\n",
       "8  -0.1279548  2.79152591 0.7255918  2.09556916 ⋯  2.7832278 -0.08849160\n",
       "9   2.2479263 -0.37610392 4.3333043 -0.01676545 ⋯  5.1664385  1.77936191\n",
       "10  5.0837311  4.18918379 4.5397170  2.16318559 ⋯  5.9529478 -0.01809705\n",
       "   ILT2         Perforin KIR2DL2.L3.S2 KIR2DL3      NKG2A      NTB.A   \n",
       "1  -0.386027758 6.431983  1.22710292    2.660657999 -0.5220613 4.348923\n",
       "2   2.983874845 6.814827 -0.04141081    3.841304627  4.6771149 3.474335\n",
       "3  -0.521099944 5.099562 -0.16705075   -0.009694396 -0.4730573 5.634341\n",
       "4  -0.043783559 5.841797 -0.51753289   -0.592990887 -0.4059049 4.598021\n",
       "5   1.182703288 4.888777 -0.36251589   -0.398123704 -0.5440881 3.606101\n",
       "6  -0.003258955 3.952542 -0.20194392   -0.202592720  3.8882776 2.346275\n",
       "7  -0.151396256 6.247289 -0.48058961   -0.317244773  3.0763917 3.898727\n",
       "8   2.612436055 5.617442 -0.07145452    2.439626933 -0.2024779 3.324831\n",
       "9  -0.038896047 6.832474  3.58195551    0.652217458  2.2786631 5.306381\n",
       "10  2.616244868 4.962765 -0.43561619   -0.051400172 -0.5646037 3.050023\n",
       "   CD56     INFg       \n",
       "1  2.897523 -0.38411079\n",
       "2  3.782870  2.71862957\n",
       "3  5.701186  2.53217632\n",
       "4  6.065672  2.45645823\n",
       "5  1.966169  3.14700918\n",
       "6  6.473243  2.82829866\n",
       "7  3.660979  0.53842782\n",
       "8  3.499159 -0.03111381\n",
       "9  5.470519 -0.19172223\n",
       "10 4.858793 -0.09067627"
      ]
     },
     "metadata": {},
     "output_type": "display_data"
    }
   ],
   "source": [
    "head(df, n = 10)"
   ]
  },
  {
   "cell_type": "code",
   "execution_count": 6,
   "metadata": {
    "vscode": {
     "languageId": "r"
    }
   },
   "outputs": [],
   "source": [
    "expanded = df %>% pivot_longer(cols = everything(),\n",
    "                            names_to = \"Protein\",\n",
    "                            values_to = \"Value\",\n",
    "                            )"
   ]
  },
  {
   "cell_type": "code",
   "execution_count": 7,
   "metadata": {
    "vscode": {
     "languageId": "r"
    }
   },
   "outputs": [
    {
     "data": {
      "text/html": [
       "<table class=\"dataframe\">\n",
       "<caption>A tibble: 10 × 2</caption>\n",
       "<thead>\n",
       "\t<tr><th scope=col>Protein</th><th scope=col>Value</th></tr>\n",
       "\t<tr><th scope=col>&lt;chr&gt;</th><th scope=col>&lt;dbl&gt;</th></tr>\n",
       "</thead>\n",
       "<tbody>\n",
       "\t<tr><td>NKp30    </td><td> 0.1875955</td></tr>\n",
       "\t<tr><td>KIR3DL1  </td><td> 3.6156932</td></tr>\n",
       "\t<tr><td>NKp44    </td><td>-0.5605694</td></tr>\n",
       "\t<tr><td>KIR2DL1  </td><td>-0.2936654</td></tr>\n",
       "\t<tr><td>GranzymeB</td><td> 2.4778929</td></tr>\n",
       "\t<tr><td>CXCR6    </td><td>-0.1447005</td></tr>\n",
       "\t<tr><td>CD161    </td><td>-0.3152872</td></tr>\n",
       "\t<tr><td>KIR2DS4  </td><td> 1.9449705</td></tr>\n",
       "\t<tr><td>NKp46    </td><td> 4.0818316</td></tr>\n",
       "\t<tr><td>NKG2D    </td><td> 2.6200784</td></tr>\n",
       "</tbody>\n",
       "</table>\n"
      ],
      "text/latex": [
       "A tibble: 10 × 2\n",
       "\\begin{tabular}{ll}\n",
       " Protein & Value\\\\\n",
       " <chr> & <dbl>\\\\\n",
       "\\hline\n",
       "\t NKp30     &  0.1875955\\\\\n",
       "\t KIR3DL1   &  3.6156932\\\\\n",
       "\t NKp44     & -0.5605694\\\\\n",
       "\t KIR2DL1   & -0.2936654\\\\\n",
       "\t GranzymeB &  2.4778929\\\\\n",
       "\t CXCR6     & -0.1447005\\\\\n",
       "\t CD161     & -0.3152872\\\\\n",
       "\t KIR2DS4   &  1.9449705\\\\\n",
       "\t NKp46     &  4.0818316\\\\\n",
       "\t NKG2D     &  2.6200784\\\\\n",
       "\\end{tabular}\n"
      ],
      "text/markdown": [
       "\n",
       "A tibble: 10 × 2\n",
       "\n",
       "| Protein &lt;chr&gt; | Value &lt;dbl&gt; |\n",
       "|---|---|\n",
       "| NKp30     |  0.1875955 |\n",
       "| KIR3DL1   |  3.6156932 |\n",
       "| NKp44     | -0.5605694 |\n",
       "| KIR2DL1   | -0.2936654 |\n",
       "| GranzymeB |  2.4778929 |\n",
       "| CXCR6     | -0.1447005 |\n",
       "| CD161     | -0.3152872 |\n",
       "| KIR2DS4   |  1.9449705 |\n",
       "| NKp46     |  4.0818316 |\n",
       "| NKG2D     |  2.6200784 |\n",
       "\n"
      ],
      "text/plain": [
       "   Protein   Value     \n",
       "1  NKp30      0.1875955\n",
       "2  KIR3DL1    3.6156932\n",
       "3  NKp44     -0.5605694\n",
       "4  KIR2DL1   -0.2936654\n",
       "5  GranzymeB  2.4778929\n",
       "6  CXCR6     -0.1447005\n",
       "7  CD161     -0.3152872\n",
       "8  KIR2DS4    1.9449705\n",
       "9  NKp46      4.0818316\n",
       "10 NKG2D      2.6200784"
      ]
     },
     "metadata": {},
     "output_type": "display_data"
    }
   ],
   "source": [
    "head(expanded, n=10)"
   ]
  },
  {
   "cell_type": "code",
   "execution_count": 44,
   "metadata": {
    "vscode": {
     "languageId": "r"
    }
   },
   "outputs": [],
   "source": [
    "median_values = expanded %>% group_by(Protein) %>% summarise(median_protein = median(Value))\n"
   ]
  },
  {
   "cell_type": "code",
   "execution_count": 45,
   "metadata": {
    "vscode": {
     "languageId": "r"
    }
   },
   "outputs": [],
   "source": [
    "mad_values = expanded %>% group_by(Protein) %>% summarise(mad_protein = mad(Value))"
   ]
  },
  {
   "cell_type": "code",
   "execution_count": 46,
   "metadata": {
    "vscode": {
     "languageId": "r"
    }
   },
   "outputs": [],
   "source": [
    "spread_location <- left_join(median_values, mad_values, by = \"Protein\" )"
   ]
  },
  {
   "cell_type": "code",
   "execution_count": 53,
   "metadata": {
    "vscode": {
     "languageId": "r"
    }
   },
   "outputs": [
    {
     "data": {
      "text/html": [
       "<table class=\"dataframe\">\n",
       "<caption>A tibble: 35 × 3</caption>\n",
       "<thead>\n",
       "\t<tr><th scope=col>Protein</th><th scope=col>median_protein</th><th scope=col>mad_protein</th></tr>\n",
       "\t<tr><th scope=col>&lt;chr&gt;</th><th scope=col>&lt;dbl&gt;</th><th scope=col>&lt;dbl&gt;</th></tr>\n",
       "</thead>\n",
       "<tbody>\n",
       "\t<tr><td>CD107a       </td><td>-0.122299723</td><td>0.6086976</td></tr>\n",
       "\t<tr><td>CD16         </td><td> 5.122980165</td><td>0.8744054</td></tr>\n",
       "\t<tr><td>CD161        </td><td> 0.725693301</td><td>1.6882296</td></tr>\n",
       "\t<tr><td>CD2          </td><td> 3.945378908</td><td>1.6770427</td></tr>\n",
       "\t<tr><td>CD4          </td><td>-0.203649896</td><td>0.3953896</td></tr>\n",
       "\t<tr><td>CD56         </td><td> 5.710790329</td><td>0.9981358</td></tr>\n",
       "\t<tr><td>CD57         </td><td> 3.070920414</td><td>1.9868804</td></tr>\n",
       "\t<tr><td>CD69         </td><td> 4.588542784</td><td>1.0186438</td></tr>\n",
       "\t<tr><td>CD8          </td><td> 2.400718137</td><td>2.2887240</td></tr>\n",
       "\t<tr><td>CXCR6        </td><td>-0.058142550</td><td>0.7266041</td></tr>\n",
       "\t<tr><td>DNAM.1       </td><td> 1.353486864</td><td>0.5446157</td></tr>\n",
       "\t<tr><td>GM.CSF       </td><td> 0.440375025</td><td>1.3604700</td></tr>\n",
       "\t<tr><td>GranzymeB    </td><td> 3.682823912</td><td>0.9278530</td></tr>\n",
       "\t<tr><td>ILT2         </td><td> 0.004517604</td><td>0.8921193</td></tr>\n",
       "\t<tr><td>INFg         </td><td> 2.265411517</td><td>1.4365912</td></tr>\n",
       "\t<tr><td>KIR2DL1      </td><td> 1.704895146</td><td>2.6208342</td></tr>\n",
       "\t<tr><td>KIR2DL2.L3.S2</td><td>-0.130109163</td><td>0.5764354</td></tr>\n",
       "\t<tr><td>KIR2DL3      </td><td>-0.101981263</td><td>0.6522079</td></tr>\n",
       "\t<tr><td>KIR2DL5      </td><td> 2.415762864</td><td>1.3362165</td></tr>\n",
       "\t<tr><td>KIR2DS4      </td><td> 1.710280967</td><td>2.7821422</td></tr>\n",
       "\t<tr><td>KIR3DL1      </td><td>-0.021216332</td><td>0.8345779</td></tr>\n",
       "\t<tr><td>KIR3DL1.S1   </td><td>-0.092756956</td><td>0.6635470</td></tr>\n",
       "\t<tr><td>KIR3DL2      </td><td>-0.033805538</td><td>0.8167775</td></tr>\n",
       "\t<tr><td>MIP1b        </td><td> 3.269905627</td><td>1.1092044</td></tr>\n",
       "\t<tr><td>NKG2A        </td><td> 3.834458502</td><td>1.8083804</td></tr>\n",
       "\t<tr><td>NKG2C        </td><td>-0.097175094</td><td>0.6557013</td></tr>\n",
       "\t<tr><td>NKG2D        </td><td> 2.626563956</td><td>1.5955079</td></tr>\n",
       "\t<tr><td>NKp30        </td><td> 3.779564901</td><td>1.2968866</td></tr>\n",
       "\t<tr><td>NKp44        </td><td> 0.759251398</td><td>1.7686227</td></tr>\n",
       "\t<tr><td>NKp46        </td><td> 3.853501893</td><td>1.0473857</td></tr>\n",
       "\t<tr><td>NTB.A        </td><td> 4.442837686</td><td>0.8207187</td></tr>\n",
       "\t<tr><td>Perforin     </td><td> 7.141072487</td><td>0.7604119</td></tr>\n",
       "\t<tr><td>TNFa         </td><td> 0.792036321</td><td>1.7249212</td></tr>\n",
       "\t<tr><td>TRAIL        </td><td>-0.144216295</td><td>0.5539676</td></tr>\n",
       "\t<tr><td>X2B4         </td><td> 1.044440565</td><td>1.8952282</td></tr>\n",
       "</tbody>\n",
       "</table>\n"
      ],
      "text/latex": [
       "A tibble: 35 × 3\n",
       "\\begin{tabular}{lll}\n",
       " Protein & median\\_protein & mad\\_protein\\\\\n",
       " <chr> & <dbl> & <dbl>\\\\\n",
       "\\hline\n",
       "\t CD107a        & -0.122299723 & 0.6086976\\\\\n",
       "\t CD16          &  5.122980165 & 0.8744054\\\\\n",
       "\t CD161         &  0.725693301 & 1.6882296\\\\\n",
       "\t CD2           &  3.945378908 & 1.6770427\\\\\n",
       "\t CD4           & -0.203649896 & 0.3953896\\\\\n",
       "\t CD56          &  5.710790329 & 0.9981358\\\\\n",
       "\t CD57          &  3.070920414 & 1.9868804\\\\\n",
       "\t CD69          &  4.588542784 & 1.0186438\\\\\n",
       "\t CD8           &  2.400718137 & 2.2887240\\\\\n",
       "\t CXCR6         & -0.058142550 & 0.7266041\\\\\n",
       "\t DNAM.1        &  1.353486864 & 0.5446157\\\\\n",
       "\t GM.CSF        &  0.440375025 & 1.3604700\\\\\n",
       "\t GranzymeB     &  3.682823912 & 0.9278530\\\\\n",
       "\t ILT2          &  0.004517604 & 0.8921193\\\\\n",
       "\t INFg          &  2.265411517 & 1.4365912\\\\\n",
       "\t KIR2DL1       &  1.704895146 & 2.6208342\\\\\n",
       "\t KIR2DL2.L3.S2 & -0.130109163 & 0.5764354\\\\\n",
       "\t KIR2DL3       & -0.101981263 & 0.6522079\\\\\n",
       "\t KIR2DL5       &  2.415762864 & 1.3362165\\\\\n",
       "\t KIR2DS4       &  1.710280967 & 2.7821422\\\\\n",
       "\t KIR3DL1       & -0.021216332 & 0.8345779\\\\\n",
       "\t KIR3DL1.S1    & -0.092756956 & 0.6635470\\\\\n",
       "\t KIR3DL2       & -0.033805538 & 0.8167775\\\\\n",
       "\t MIP1b         &  3.269905627 & 1.1092044\\\\\n",
       "\t NKG2A         &  3.834458502 & 1.8083804\\\\\n",
       "\t NKG2C         & -0.097175094 & 0.6557013\\\\\n",
       "\t NKG2D         &  2.626563956 & 1.5955079\\\\\n",
       "\t NKp30         &  3.779564901 & 1.2968866\\\\\n",
       "\t NKp44         &  0.759251398 & 1.7686227\\\\\n",
       "\t NKp46         &  3.853501893 & 1.0473857\\\\\n",
       "\t NTB.A         &  4.442837686 & 0.8207187\\\\\n",
       "\t Perforin      &  7.141072487 & 0.7604119\\\\\n",
       "\t TNFa          &  0.792036321 & 1.7249212\\\\\n",
       "\t TRAIL         & -0.144216295 & 0.5539676\\\\\n",
       "\t X2B4          &  1.044440565 & 1.8952282\\\\\n",
       "\\end{tabular}\n"
      ],
      "text/markdown": [
       "\n",
       "A tibble: 35 × 3\n",
       "\n",
       "| Protein &lt;chr&gt; | median_protein &lt;dbl&gt; | mad_protein &lt;dbl&gt; |\n",
       "|---|---|---|\n",
       "| CD107a        | -0.122299723 | 0.6086976 |\n",
       "| CD16          |  5.122980165 | 0.8744054 |\n",
       "| CD161         |  0.725693301 | 1.6882296 |\n",
       "| CD2           |  3.945378908 | 1.6770427 |\n",
       "| CD4           | -0.203649896 | 0.3953896 |\n",
       "| CD56          |  5.710790329 | 0.9981358 |\n",
       "| CD57          |  3.070920414 | 1.9868804 |\n",
       "| CD69          |  4.588542784 | 1.0186438 |\n",
       "| CD8           |  2.400718137 | 2.2887240 |\n",
       "| CXCR6         | -0.058142550 | 0.7266041 |\n",
       "| DNAM.1        |  1.353486864 | 0.5446157 |\n",
       "| GM.CSF        |  0.440375025 | 1.3604700 |\n",
       "| GranzymeB     |  3.682823912 | 0.9278530 |\n",
       "| ILT2          |  0.004517604 | 0.8921193 |\n",
       "| INFg          |  2.265411517 | 1.4365912 |\n",
       "| KIR2DL1       |  1.704895146 | 2.6208342 |\n",
       "| KIR2DL2.L3.S2 | -0.130109163 | 0.5764354 |\n",
       "| KIR2DL3       | -0.101981263 | 0.6522079 |\n",
       "| KIR2DL5       |  2.415762864 | 1.3362165 |\n",
       "| KIR2DS4       |  1.710280967 | 2.7821422 |\n",
       "| KIR3DL1       | -0.021216332 | 0.8345779 |\n",
       "| KIR3DL1.S1    | -0.092756956 | 0.6635470 |\n",
       "| KIR3DL2       | -0.033805538 | 0.8167775 |\n",
       "| MIP1b         |  3.269905627 | 1.1092044 |\n",
       "| NKG2A         |  3.834458502 | 1.8083804 |\n",
       "| NKG2C         | -0.097175094 | 0.6557013 |\n",
       "| NKG2D         |  2.626563956 | 1.5955079 |\n",
       "| NKp30         |  3.779564901 | 1.2968866 |\n",
       "| NKp44         |  0.759251398 | 1.7686227 |\n",
       "| NKp46         |  3.853501893 | 1.0473857 |\n",
       "| NTB.A         |  4.442837686 | 0.8207187 |\n",
       "| Perforin      |  7.141072487 | 0.7604119 |\n",
       "| TNFa          |  0.792036321 | 1.7249212 |\n",
       "| TRAIL         | -0.144216295 | 0.5539676 |\n",
       "| X2B4          |  1.044440565 | 1.8952282 |\n",
       "\n"
      ],
      "text/plain": [
       "   Protein       median_protein mad_protein\n",
       "1  CD107a        -0.122299723   0.6086976  \n",
       "2  CD16           5.122980165   0.8744054  \n",
       "3  CD161          0.725693301   1.6882296  \n",
       "4  CD2            3.945378908   1.6770427  \n",
       "5  CD4           -0.203649896   0.3953896  \n",
       "6  CD56           5.710790329   0.9981358  \n",
       "7  CD57           3.070920414   1.9868804  \n",
       "8  CD69           4.588542784   1.0186438  \n",
       "9  CD8            2.400718137   2.2887240  \n",
       "10 CXCR6         -0.058142550   0.7266041  \n",
       "11 DNAM.1         1.353486864   0.5446157  \n",
       "12 GM.CSF         0.440375025   1.3604700  \n",
       "13 GranzymeB      3.682823912   0.9278530  \n",
       "14 ILT2           0.004517604   0.8921193  \n",
       "15 INFg           2.265411517   1.4365912  \n",
       "16 KIR2DL1        1.704895146   2.6208342  \n",
       "17 KIR2DL2.L3.S2 -0.130109163   0.5764354  \n",
       "18 KIR2DL3       -0.101981263   0.6522079  \n",
       "19 KIR2DL5        2.415762864   1.3362165  \n",
       "20 KIR2DS4        1.710280967   2.7821422  \n",
       "21 KIR3DL1       -0.021216332   0.8345779  \n",
       "22 KIR3DL1.S1    -0.092756956   0.6635470  \n",
       "23 KIR3DL2       -0.033805538   0.8167775  \n",
       "24 MIP1b          3.269905627   1.1092044  \n",
       "25 NKG2A          3.834458502   1.8083804  \n",
       "26 NKG2C         -0.097175094   0.6557013  \n",
       "27 NKG2D          2.626563956   1.5955079  \n",
       "28 NKp30          3.779564901   1.2968866  \n",
       "29 NKp44          0.759251398   1.7686227  \n",
       "30 NKp46          3.853501893   1.0473857  \n",
       "31 NTB.A          4.442837686   0.8207187  \n",
       "32 Perforin       7.141072487   0.7604119  \n",
       "33 TNFa           0.792036321   1.7249212  \n",
       "34 TRAIL         -0.144216295   0.5539676  \n",
       "35 X2B4           1.044440565   1.8952282  "
      ]
     },
     "metadata": {},
     "output_type": "display_data"
    }
   ],
   "source": [
    "spread_location"
   ]
  },
  {
   "cell_type": "code",
   "execution_count": 54,
   "metadata": {
    "vscode": {
     "languageId": "r"
    }
   },
   "outputs": [
    {
     "data": {
      "image/png": "[encoded data removed]",
      "text/plain": [
       "plot without title"
      ]
     },
     "metadata": {
      "image/png": {
       "height": 420,
       "width": 420
      }
     },
     "output_type": "display_data"
    }
   ],
   "source": [
    "ggplot(spread_location, aes(x = mad_protein, y = median_protein)) +\n",
    "  geom_point() +\n",
    "  labs(x = \"Median Absolute Deviation\", y = \"Median\", title = \"Spread Location\") +\n",
    "  theme_minimal()"
   ]
  },
  {
   "cell_type": "markdown",
   "metadata": {},
   "source": [
    "This graph gives us the intuition that the the spread location plot has no strong relationship, and therefore we can make an assumption that this data is homoescedastic "
   ]
  },
  {
   "cell_type": "code",
   "execution_count": 14,
   "metadata": {
    "vscode": {
     "languageId": "r"
    }
   },
   "outputs": [],
   "source": [
    "data(example_gymnastics_2)"
   ]
  },
  {
   "cell_type": "code",
   "execution_count": 15,
   "metadata": {
    "vscode": {
     "languageId": "r"
    }
   },
   "outputs": [],
   "source": [
    "dcl <- example_gymnastics_2"
   ]
  },
  {
   "cell_type": "code",
   "execution_count": 16,
   "metadata": {
    "vscode": {
     "languageId": "r"
    }
   },
   "outputs": [
    {
     "data": {
      "text/html": [
       "<table class=\"dataframe\">\n",
       "<caption>A tibble: 3 × 5</caption>\n",
       "<thead>\n",
       "\t<tr><th scope=col>country</th><th scope=col>vault_2012</th><th scope=col>floor_2012</th><th scope=col>vault_2016</th><th scope=col>floor_2016</th></tr>\n",
       "\t<tr><th scope=col>&lt;chr&gt;</th><th scope=col>&lt;dbl&gt;</th><th scope=col>&lt;dbl&gt;</th><th scope=col>&lt;dbl&gt;</th><th scope=col>&lt;dbl&gt;</th></tr>\n",
       "</thead>\n",
       "<tbody>\n",
       "\t<tr><td>United States</td><td>48.132</td><td>45.366</td><td>46.866</td><td>45.999</td></tr>\n",
       "\t<tr><td>Russia       </td><td>46.366</td><td>41.599</td><td>45.733</td><td>42.032</td></tr>\n",
       "\t<tr><td>China        </td><td>44.266</td><td>40.833</td><td>44.332</td><td>42.066</td></tr>\n",
       "</tbody>\n",
       "</table>\n"
      ],
      "text/latex": [
       "A tibble: 3 × 5\n",
       "\\begin{tabular}{lllll}\n",
       " country & vault\\_2012 & floor\\_2012 & vault\\_2016 & floor\\_2016\\\\\n",
       " <chr> & <dbl> & <dbl> & <dbl> & <dbl>\\\\\n",
       "\\hline\n",
       "\t United States & 48.132 & 45.366 & 46.866 & 45.999\\\\\n",
       "\t Russia        & 46.366 & 41.599 & 45.733 & 42.032\\\\\n",
       "\t China         & 44.266 & 40.833 & 44.332 & 42.066\\\\\n",
       "\\end{tabular}\n"
      ],
      "text/markdown": [
       "\n",
       "A tibble: 3 × 5\n",
       "\n",
       "| country &lt;chr&gt; | vault_2012 &lt;dbl&gt; | floor_2012 &lt;dbl&gt; | vault_2016 &lt;dbl&gt; | floor_2016 &lt;dbl&gt; |\n",
       "|---|---|---|---|---|\n",
       "| United States | 48.132 | 45.366 | 46.866 | 45.999 |\n",
       "| Russia        | 46.366 | 41.599 | 45.733 | 42.032 |\n",
       "| China         | 44.266 | 40.833 | 44.332 | 42.066 |\n",
       "\n"
      ],
      "text/plain": [
       "  country       vault_2012 floor_2012 vault_2016 floor_2016\n",
       "1 United States 48.132     45.366     46.866     45.999    \n",
       "2 Russia        46.366     41.599     45.733     42.032    \n",
       "3 China         44.266     40.833     44.332     42.066    "
      ]
     },
     "metadata": {},
     "output_type": "display_data"
    }
   ],
   "source": [
    "dcl"
   ]
  },
  {
   "cell_type": "code",
   "execution_count": null,
   "metadata": {
    "vscode": {
     "languageId": "r"
    }
   },
   "outputs": [],
   "source": [
    "reshaped <- dcl %>% \n",
    "                pivot_longer(\n",
    "                    cols = -country,\n",
    "                    names_to = c(\"event\", \"year\"),\n",
    "                    names_sep = '_'\n",
    "                ) %>% \n",
    "                rename(score = value)"
   ]
  },
  {
   "cell_type": "code",
   "execution_count": 31,
   "metadata": {
    "vscode": {
     "languageId": "r"
    }
   },
   "outputs": [
    {
     "data": {
      "text/html": [
       "<table class=\"dataframe\">\n",
       "<caption>A tibble: 12 × 4</caption>\n",
       "<thead>\n",
       "\t<tr><th scope=col>country</th><th scope=col>event</th><th scope=col>year</th><th scope=col>score</th></tr>\n",
       "\t<tr><th scope=col>&lt;chr&gt;</th><th scope=col>&lt;chr&gt;</th><th scope=col>&lt;chr&gt;</th><th scope=col>&lt;dbl&gt;</th></tr>\n",
       "</thead>\n",
       "<tbody>\n",
       "\t<tr><td>United States</td><td>vault</td><td>2012</td><td>48.132</td></tr>\n",
       "\t<tr><td>United States</td><td>floor</td><td>2012</td><td>45.366</td></tr>\n",
       "\t<tr><td>United States</td><td>vault</td><td>2016</td><td>46.866</td></tr>\n",
       "\t<tr><td>United States</td><td>floor</td><td>2016</td><td>45.999</td></tr>\n",
       "\t<tr><td>Russia       </td><td>vault</td><td>2012</td><td>46.366</td></tr>\n",
       "\t<tr><td>Russia       </td><td>floor</td><td>2012</td><td>41.599</td></tr>\n",
       "\t<tr><td>Russia       </td><td>vault</td><td>2016</td><td>45.733</td></tr>\n",
       "\t<tr><td>Russia       </td><td>floor</td><td>2016</td><td>42.032</td></tr>\n",
       "\t<tr><td>China        </td><td>vault</td><td>2012</td><td>44.266</td></tr>\n",
       "\t<tr><td>China        </td><td>floor</td><td>2012</td><td>40.833</td></tr>\n",
       "\t<tr><td>China        </td><td>vault</td><td>2016</td><td>44.332</td></tr>\n",
       "\t<tr><td>China        </td><td>floor</td><td>2016</td><td>42.066</td></tr>\n",
       "</tbody>\n",
       "</table>\n"
      ],
      "text/latex": [
       "A tibble: 12 × 4\n",
       "\\begin{tabular}{llll}\n",
       " country & event & year & score\\\\\n",
       " <chr> & <chr> & <chr> & <dbl>\\\\\n",
       "\\hline\n",
       "\t United States & vault & 2012 & 48.132\\\\\n",
       "\t United States & floor & 2012 & 45.366\\\\\n",
       "\t United States & vault & 2016 & 46.866\\\\\n",
       "\t United States & floor & 2016 & 45.999\\\\\n",
       "\t Russia        & vault & 2012 & 46.366\\\\\n",
       "\t Russia        & floor & 2012 & 41.599\\\\\n",
       "\t Russia        & vault & 2016 & 45.733\\\\\n",
       "\t Russia        & floor & 2016 & 42.032\\\\\n",
       "\t China         & vault & 2012 & 44.266\\\\\n",
       "\t China         & floor & 2012 & 40.833\\\\\n",
       "\t China         & vault & 2016 & 44.332\\\\\n",
       "\t China         & floor & 2016 & 42.066\\\\\n",
       "\\end{tabular}\n"
      ],
      "text/markdown": [
       "\n",
       "A tibble: 12 × 4\n",
       "\n",
       "| country &lt;chr&gt; | event &lt;chr&gt; | year &lt;chr&gt; | score &lt;dbl&gt; |\n",
       "|---|---|---|---|\n",
       "| United States | vault | 2012 | 48.132 |\n",
       "| United States | floor | 2012 | 45.366 |\n",
       "| United States | vault | 2016 | 46.866 |\n",
       "| United States | floor | 2016 | 45.999 |\n",
       "| Russia        | vault | 2012 | 46.366 |\n",
       "| Russia        | floor | 2012 | 41.599 |\n",
       "| Russia        | vault | 2016 | 45.733 |\n",
       "| Russia        | floor | 2016 | 42.032 |\n",
       "| China         | vault | 2012 | 44.266 |\n",
       "| China         | floor | 2012 | 40.833 |\n",
       "| China         | vault | 2016 | 44.332 |\n",
       "| China         | floor | 2016 | 42.066 |\n",
       "\n"
      ],
      "text/plain": [
       "   country       event year score \n",
       "1  United States vault 2012 48.132\n",
       "2  United States floor 2012 45.366\n",
       "3  United States vault 2016 46.866\n",
       "4  United States floor 2016 45.999\n",
       "5  Russia        vault 2012 46.366\n",
       "6  Russia        floor 2012 41.599\n",
       "7  Russia        vault 2016 45.733\n",
       "8  Russia        floor 2016 42.032\n",
       "9  China         vault 2012 44.266\n",
       "10 China         floor 2012 40.833\n",
       "11 China         vault 2016 44.332\n",
       "12 China         floor 2016 42.066"
      ]
     },
     "metadata": {},
     "output_type": "display_data"
    }
   ],
   "source": [
    "reshaped"
   ]
  },
  {
   "cell_type": "code",
   "execution_count": null,
   "metadata": {
    "vscode": {
     "languageId": "r"
    }
   },
   "outputs": [],
   "source": []
  }
 ],
 "metadata": {
  "kernelspec": {
   "display_name": "R",
   "language": "R",
   "name": "ir"
  },
  "language_info": {
   "codemirror_mode": "r",
   "file_extension": ".r",
   "mimetype": "text/x-r-source",
   "name": "R",
   "pygments_lexer": "r",
   "version": "4.1.2"
  }
 },
 "nbformat": 4,
 "nbformat_minor": 2
}
